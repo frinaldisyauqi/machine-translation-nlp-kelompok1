{
  "cells": [
    {
      "cell_type": "code",
      "execution_count": null,
      "metadata": {
        "colab": {
          "base_uri": "https://localhost:8080/",
          "height": 36
        },
        "id": "99wgsI_PTr24",
        "outputId": "9c71f557-372c-4659-95c7-dc0690fa4be3"
      },
      "outputs": [
        {
          "data": {
            "application/vnd.google.colaboratory.intrinsic+json": {
              "type": "string"
            },
            "text/plain": [
              "'2.15.0'"
            ]
          },
          "execution_count": 1,
          "metadata": {},
          "output_type": "execute_result"
        }
      ],
      "source": [
        "# Import Library yang dibutuhkan\n",
        "import pandas as pd\n",
        "import numpy as np\n",
        "import tensorflow_datasets as tfds\n",
        "import tensorflow as tf\n",
        "tf.__version__"
      ]
    },
    {
      "cell_type": "code",
      "execution_count": null,
      "metadata": {
        "colab": {
          "base_uri": "https://localhost:8080/"
        },
        "id": "GCuj3JPdNme1",
        "outputId": "a10e3e15-4b75-4508-cab4-60d379e43af4"
      },
      "outputs": [
        {
          "name": "stdout",
          "output_type": "stream",
          "text": [
            "Downloading...\n",
            "From: https://drive.google.com/uc?id=1hRsS4M9qQXrAMj53KFLiqUnpw1km-_2a\n",
            "To: /content/eng-indo-augmented.txt\n",
            "\r  0% 0.00/1.15M [00:00<?, ?B/s]\r100% 1.15M/1.15M [00:00<00:00, 106MB/s]\n"
          ]
        }
      ],
      "source": [
        "!gdown 1hRsS4M9qQXrAMj53KFLiqUnpw1km-_2a"
      ]
    },
    {
      "cell_type": "code",
      "execution_count": null,
      "metadata": {
        "id": "leB0n1-DUDs2"
      },
      "outputs": [],
      "source": [
        "# Fungsi untuk load document text\n",
        "def load_doc(url):\n",
        "  df = pd.read_csv(url, delimiter=\"\\t\", header=None)\n",
        "  return df"
      ]
    },
    {
      "cell_type": "code",
      "execution_count": null,
      "metadata": {
        "colab": {
          "base_uri": "https://localhost:8080/",
          "height": 676
        },
        "id": "0XahngEUUF4H",
        "outputId": "ddceb418-f436-4492-c72e-7c2d8f87e7f6"
      },
      "outputs": [
        {
          "data": {
            "text/html": [
              "\n",
              "  <div id=\"df-43c0305a-6efa-48d1-90d4-9d402028e820\" class=\"colab-df-container\">\n",
              "    <div>\n",
              "<style scoped>\n",
              "    .dataframe tbody tr th:only-of-type {\n",
              "        vertical-align: middle;\n",
              "    }\n",
              "\n",
              "    .dataframe tbody tr th {\n",
              "        vertical-align: top;\n",
              "    }\n",
              "\n",
              "    .dataframe thead th {\n",
              "        text-align: right;\n",
              "    }\n",
              "</style>\n",
              "<table border=\"1\" class=\"dataframe\">\n",
              "  <thead>\n",
              "    <tr style=\"text-align: right;\">\n",
              "      <th></th>\n",
              "      <th>english</th>\n",
              "      <th>indonesian</th>\n",
              "    </tr>\n",
              "  </thead>\n",
              "  <tbody>\n",
              "    <tr>\n",
              "      <th>0</th>\n",
              "      <td>run !</td>\n",
              "      <td>lari !</td>\n",
              "    </tr>\n",
              "    <tr>\n",
              "      <th>1</th>\n",
              "      <td>who ?</td>\n",
              "      <td>siapa ?</td>\n",
              "    </tr>\n",
              "    <tr>\n",
              "      <th>2</th>\n",
              "      <td>wow !</td>\n",
              "      <td>wow !</td>\n",
              "    </tr>\n",
              "    <tr>\n",
              "      <th>3</th>\n",
              "      <td>help !</td>\n",
              "      <td>tolong !</td>\n",
              "    </tr>\n",
              "    <tr>\n",
              "      <th>4</th>\n",
              "      <td>jump !</td>\n",
              "      <td>lompat !</td>\n",
              "    </tr>\n",
              "    <tr>\n",
              "      <th>5</th>\n",
              "      <td>jump .</td>\n",
              "      <td>loncat .</td>\n",
              "    </tr>\n",
              "    <tr>\n",
              "      <th>6</th>\n",
              "      <td>stop !</td>\n",
              "      <td>berhenti !</td>\n",
              "    </tr>\n",
              "    <tr>\n",
              "      <th>7</th>\n",
              "      <td>wait !</td>\n",
              "      <td>tunggu !</td>\n",
              "    </tr>\n",
              "    <tr>\n",
              "      <th>8</th>\n",
              "      <td>wait .</td>\n",
              "      <td>tunggu .</td>\n",
              "    </tr>\n",
              "    <tr>\n",
              "      <th>9</th>\n",
              "      <td>hurry !</td>\n",
              "      <td>cepatlah !</td>\n",
              "    </tr>\n",
              "    <tr>\n",
              "      <th>10</th>\n",
              "      <td>hurry !</td>\n",
              "      <td>cepat !</td>\n",
              "    </tr>\n",
              "    <tr>\n",
              "      <th>11</th>\n",
              "      <td>hurry !</td>\n",
              "      <td>buruan !</td>\n",
              "    </tr>\n",
              "    <tr>\n",
              "      <th>12</th>\n",
              "      <td>i see .</td>\n",
              "      <td>begitu rupanya .</td>\n",
              "    </tr>\n",
              "    <tr>\n",
              "      <th>13</th>\n",
              "      <td>smile .</td>\n",
              "      <td>senyum .</td>\n",
              "    </tr>\n",
              "    <tr>\n",
              "      <th>14</th>\n",
              "      <td>attack !</td>\n",
              "      <td>serang !</td>\n",
              "    </tr>\n",
              "    <tr>\n",
              "      <th>15</th>\n",
              "      <td>cheers !</td>\n",
              "      <td>bersulang !</td>\n",
              "    </tr>\n",
              "    <tr>\n",
              "      <th>16</th>\n",
              "      <td>freeze !</td>\n",
              "      <td>angkat tangan !</td>\n",
              "    </tr>\n",
              "    <tr>\n",
              "      <th>17</th>\n",
              "      <td>get up .</td>\n",
              "      <td>bangunlah .</td>\n",
              "    </tr>\n",
              "    <tr>\n",
              "      <th>18</th>\n",
              "      <td>got it !</td>\n",
              "      <td>aku mengerti !</td>\n",
              "    </tr>\n",
              "    <tr>\n",
              "      <th>19</th>\n",
              "      <td>got it ?</td>\n",
              "      <td>mengerti ?</td>\n",
              "    </tr>\n",
              "  </tbody>\n",
              "</table>\n",
              "</div>\n",
              "    <div class=\"colab-df-buttons\">\n",
              "\n",
              "  <div class=\"colab-df-container\">\n",
              "    <button class=\"colab-df-convert\" onclick=\"convertToInteractive('df-43c0305a-6efa-48d1-90d4-9d402028e820')\"\n",
              "            title=\"Convert this dataframe to an interactive table.\"\n",
              "            style=\"display:none;\">\n",
              "\n",
              "  <svg xmlns=\"http://www.w3.org/2000/svg\" height=\"24px\" viewBox=\"0 -960 960 960\">\n",
              "    <path d=\"M120-120v-720h720v720H120Zm60-500h600v-160H180v160Zm220 220h160v-160H400v160Zm0 220h160v-160H400v160ZM180-400h160v-160H180v160Zm440 0h160v-160H620v160ZM180-180h160v-160H180v160Zm440 0h160v-160H620v160Z\"/>\n",
              "  </svg>\n",
              "    </button>\n",
              "\n",
              "  <style>\n",
              "    .colab-df-container {\n",
              "      display:flex;\n",
              "      gap: 12px;\n",
              "    }\n",
              "\n",
              "    .colab-df-convert {\n",
              "      background-color: #E8F0FE;\n",
              "      border: none;\n",
              "      border-radius: 50%;\n",
              "      cursor: pointer;\n",
              "      display: none;\n",
              "      fill: #1967D2;\n",
              "      height: 32px;\n",
              "      padding: 0 0 0 0;\n",
              "      width: 32px;\n",
              "    }\n",
              "\n",
              "    .colab-df-convert:hover {\n",
              "      background-color: #E2EBFA;\n",
              "      box-shadow: 0px 1px 2px rgba(60, 64, 67, 0.3), 0px 1px 3px 1px rgba(60, 64, 67, 0.15);\n",
              "      fill: #174EA6;\n",
              "    }\n",
              "\n",
              "    .colab-df-buttons div {\n",
              "      margin-bottom: 4px;\n",
              "    }\n",
              "\n",
              "    [theme=dark] .colab-df-convert {\n",
              "      background-color: #3B4455;\n",
              "      fill: #D2E3FC;\n",
              "    }\n",
              "\n",
              "    [theme=dark] .colab-df-convert:hover {\n",
              "      background-color: #434B5C;\n",
              "      box-shadow: 0px 1px 3px 1px rgba(0, 0, 0, 0.15);\n",
              "      filter: drop-shadow(0px 1px 2px rgba(0, 0, 0, 0.3));\n",
              "      fill: #FFFFFF;\n",
              "    }\n",
              "  </style>\n",
              "\n",
              "    <script>\n",
              "      const buttonEl =\n",
              "        document.querySelector('#df-43c0305a-6efa-48d1-90d4-9d402028e820 button.colab-df-convert');\n",
              "      buttonEl.style.display =\n",
              "        google.colab.kernel.accessAllowed ? 'block' : 'none';\n",
              "\n",
              "      async function convertToInteractive(key) {\n",
              "        const element = document.querySelector('#df-43c0305a-6efa-48d1-90d4-9d402028e820');\n",
              "        const dataTable =\n",
              "          await google.colab.kernel.invokeFunction('convertToInteractive',\n",
              "                                                    [key], {});\n",
              "        if (!dataTable) return;\n",
              "\n",
              "        const docLinkHtml = 'Like what you see? Visit the ' +\n",
              "          '<a target=\"_blank\" href=https://colab.research.google.com/notebooks/data_table.ipynb>data table notebook</a>'\n",
              "          + ' to learn more about interactive tables.';\n",
              "        element.innerHTML = '';\n",
              "        dataTable['output_type'] = 'display_data';\n",
              "        await google.colab.output.renderOutput(dataTable, element);\n",
              "        const docLink = document.createElement('div');\n",
              "        docLink.innerHTML = docLinkHtml;\n",
              "        element.appendChild(docLink);\n",
              "      }\n",
              "    </script>\n",
              "  </div>\n",
              "\n",
              "\n",
              "<div id=\"df-c53cdc2e-d4bd-457b-9660-7f2fbcb018f0\">\n",
              "  <button class=\"colab-df-quickchart\" onclick=\"quickchart('df-c53cdc2e-d4bd-457b-9660-7f2fbcb018f0')\"\n",
              "            title=\"Suggest charts\"\n",
              "            style=\"display:none;\">\n",
              "\n",
              "<svg xmlns=\"http://www.w3.org/2000/svg\" height=\"24px\"viewBox=\"0 0 24 24\"\n",
              "     width=\"24px\">\n",
              "    <g>\n",
              "        <path d=\"M19 3H5c-1.1 0-2 .9-2 2v14c0 1.1.9 2 2 2h14c1.1 0 2-.9 2-2V5c0-1.1-.9-2-2-2zM9 17H7v-7h2v7zm4 0h-2V7h2v10zm4 0h-2v-4h2v4z\"/>\n",
              "    </g>\n",
              "</svg>\n",
              "  </button>\n",
              "\n",
              "<style>\n",
              "  .colab-df-quickchart {\n",
              "      --bg-color: #E8F0FE;\n",
              "      --fill-color: #1967D2;\n",
              "      --hover-bg-color: #E2EBFA;\n",
              "      --hover-fill-color: #174EA6;\n",
              "      --disabled-fill-color: #AAA;\n",
              "      --disabled-bg-color: #DDD;\n",
              "  }\n",
              "\n",
              "  [theme=dark] .colab-df-quickchart {\n",
              "      --bg-color: #3B4455;\n",
              "      --fill-color: #D2E3FC;\n",
              "      --hover-bg-color: #434B5C;\n",
              "      --hover-fill-color: #FFFFFF;\n",
              "      --disabled-bg-color: #3B4455;\n",
              "      --disabled-fill-color: #666;\n",
              "  }\n",
              "\n",
              "  .colab-df-quickchart {\n",
              "    background-color: var(--bg-color);\n",
              "    border: none;\n",
              "    border-radius: 50%;\n",
              "    cursor: pointer;\n",
              "    display: none;\n",
              "    fill: var(--fill-color);\n",
              "    height: 32px;\n",
              "    padding: 0;\n",
              "    width: 32px;\n",
              "  }\n",
              "\n",
              "  .colab-df-quickchart:hover {\n",
              "    background-color: var(--hover-bg-color);\n",
              "    box-shadow: 0 1px 2px rgba(60, 64, 67, 0.3), 0 1px 3px 1px rgba(60, 64, 67, 0.15);\n",
              "    fill: var(--button-hover-fill-color);\n",
              "  }\n",
              "\n",
              "  .colab-df-quickchart-complete:disabled,\n",
              "  .colab-df-quickchart-complete:disabled:hover {\n",
              "    background-color: var(--disabled-bg-color);\n",
              "    fill: var(--disabled-fill-color);\n",
              "    box-shadow: none;\n",
              "  }\n",
              "\n",
              "  .colab-df-spinner {\n",
              "    border: 2px solid var(--fill-color);\n",
              "    border-color: transparent;\n",
              "    border-bottom-color: var(--fill-color);\n",
              "    animation:\n",
              "      spin 1s steps(1) infinite;\n",
              "  }\n",
              "\n",
              "  @keyframes spin {\n",
              "    0% {\n",
              "      border-color: transparent;\n",
              "      border-bottom-color: var(--fill-color);\n",
              "      border-left-color: var(--fill-color);\n",
              "    }\n",
              "    20% {\n",
              "      border-color: transparent;\n",
              "      border-left-color: var(--fill-color);\n",
              "      border-top-color: var(--fill-color);\n",
              "    }\n",
              "    30% {\n",
              "      border-color: transparent;\n",
              "      border-left-color: var(--fill-color);\n",
              "      border-top-color: var(--fill-color);\n",
              "      border-right-color: var(--fill-color);\n",
              "    }\n",
              "    40% {\n",
              "      border-color: transparent;\n",
              "      border-right-color: var(--fill-color);\n",
              "      border-top-color: var(--fill-color);\n",
              "    }\n",
              "    60% {\n",
              "      border-color: transparent;\n",
              "      border-right-color: var(--fill-color);\n",
              "    }\n",
              "    80% {\n",
              "      border-color: transparent;\n",
              "      border-right-color: var(--fill-color);\n",
              "      border-bottom-color: var(--fill-color);\n",
              "    }\n",
              "    90% {\n",
              "      border-color: transparent;\n",
              "      border-bottom-color: var(--fill-color);\n",
              "    }\n",
              "  }\n",
              "</style>\n",
              "\n",
              "  <script>\n",
              "    async function quickchart(key) {\n",
              "      const quickchartButtonEl =\n",
              "        document.querySelector('#' + key + ' button');\n",
              "      quickchartButtonEl.disabled = true;  // To prevent multiple clicks.\n",
              "      quickchartButtonEl.classList.add('colab-df-spinner');\n",
              "      try {\n",
              "        const charts = await google.colab.kernel.invokeFunction(\n",
              "            'suggestCharts', [key], {});\n",
              "      } catch (error) {\n",
              "        console.error('Error during call to suggestCharts:', error);\n",
              "      }\n",
              "      quickchartButtonEl.classList.remove('colab-df-spinner');\n",
              "      quickchartButtonEl.classList.add('colab-df-quickchart-complete');\n",
              "    }\n",
              "    (() => {\n",
              "      let quickchartButtonEl =\n",
              "        document.querySelector('#df-c53cdc2e-d4bd-457b-9660-7f2fbcb018f0 button');\n",
              "      quickchartButtonEl.style.display =\n",
              "        google.colab.kernel.accessAllowed ? 'block' : 'none';\n",
              "    })();\n",
              "  </script>\n",
              "</div>\n",
              "    </div>\n",
              "  </div>\n"
            ],
            "text/plain": [
              "     english        indonesian\n",
              "0      run !            lari !\n",
              "1      who ?           siapa ?\n",
              "2      wow !             wow !\n",
              "3     help !          tolong !\n",
              "4     jump !          lompat !\n",
              "5     jump .          loncat .\n",
              "6     stop !        berhenti !\n",
              "7     wait !          tunggu !\n",
              "8     wait .          tunggu .\n",
              "9    hurry !        cepatlah !\n",
              "10   hurry !           cepat !\n",
              "11   hurry !          buruan !\n",
              "12   i see .  begitu rupanya .\n",
              "13   smile .          senyum .\n",
              "14  attack !          serang !\n",
              "15  cheers !       bersulang !\n",
              "16  freeze !   angkat tangan !\n",
              "17  get up .       bangunlah .\n",
              "18  got it !    aku mengerti !\n",
              "19  got it ?        mengerti ?"
            ]
          },
          "execution_count": 4,
          "metadata": {},
          "output_type": "execute_result"
        }
      ],
      "source": [
        " # Load document txt\n",
        "# doc = load_doc(\"dataset/ind.txt\")\n",
        "doc = load_doc(\"eng-indo-augmented.txt\")\n",
        "doc=doc.iloc[:,:2]\n",
        "doc.columns=['english','indonesian']\n",
        "doc.head(20)"
      ]
    },
    {
      "cell_type": "code",
      "execution_count": null,
      "metadata": {
        "id": "0UHiwTCQBB9z"
      },
      "outputs": [],
      "source": [
        "# Mengambil 6500 kalimat dari dataset untuk menghindari crash\n",
        "doc = doc.sample(6500)"
      ]
    },
    {
      "cell_type": "code",
      "execution_count": null,
      "metadata": {
        "id": "K2KZY11mVVKh"
      },
      "outputs": [],
      "source": [
        "tokenizer_id = tf.keras.preprocessing.text.Tokenizer()\n",
        "tokenizer_en = tf.keras.preprocessing.text.Tokenizer()"
      ]
    },
    {
      "cell_type": "code",
      "execution_count": null,
      "metadata": {
        "id": "1FT9qrEZVYMV"
      },
      "outputs": [],
      "source": [
        "tokenizer_en.fit_on_texts(doc.iloc[:,0])\n",
        "tokenizer_id.fit_on_texts(doc.iloc[:,1])"
      ]
    },
    {
      "cell_type": "code",
      "execution_count": null,
      "metadata": {
        "id": "FbS_AgtNVcUh"
      },
      "outputs": [],
      "source": [
        "doc[\"id_indices\"] = tokenizer_id.texts_to_sequences(doc.iloc[:,1])\n",
        "doc[\"en_indices\"] = tokenizer_en.texts_to_sequences(doc.iloc[:,0])"
      ]
    },
    {
      "cell_type": "code",
      "execution_count": null,
      "metadata": {
        "colab": {
          "base_uri": "https://localhost:8080/",
          "height": 711
        },
        "id": "052ZWvdFVhr9",
        "outputId": "e4a53315-833f-4d7e-f320-a4e57285476f"
      },
      "outputs": [
        {
          "data": {
            "text/html": [
              "\n",
              "  <div id=\"df-6ea44863-5312-4f90-84a8-496f5a6779c9\" class=\"colab-df-container\">\n",
              "    <div>\n",
              "<style scoped>\n",
              "    .dataframe tbody tr th:only-of-type {\n",
              "        vertical-align: middle;\n",
              "    }\n",
              "\n",
              "    .dataframe tbody tr th {\n",
              "        vertical-align: top;\n",
              "    }\n",
              "\n",
              "    .dataframe thead th {\n",
              "        text-align: right;\n",
              "    }\n",
              "</style>\n",
              "<table border=\"1\" class=\"dataframe\">\n",
              "  <thead>\n",
              "    <tr style=\"text-align: right;\">\n",
              "      <th></th>\n",
              "      <th>english</th>\n",
              "      <th>indonesian</th>\n",
              "      <th>id_indices</th>\n",
              "      <th>en_indices</th>\n",
              "    </tr>\n",
              "  </thead>\n",
              "  <tbody>\n",
              "    <tr>\n",
              "      <th>11668</th>\n",
              "      <td>ken started to descend the stairs .</td>\n",
              "      <td>ken mulai menuruni tangganya .</td>\n",
              "      <td>[29, 200, 343, 1204]</td>\n",
              "      <td>[39, 426, 1, 1169, 3, 228]</td>\n",
              "    </tr>\n",
              "    <tr>\n",
              "      <th>3711</th>\n",
              "      <td>i was born on march .</td>\n",
              "      <td>saya lahir pada tanggal maret .</td>\n",
              "      <td>[15, 971, 51, 1464, 1876]</td>\n",
              "      <td>[2, 13, 988, 30, 1711]</td>\n",
              "    </tr>\n",
              "    <tr>\n",
              "      <th>7682</th>\n",
              "      <td>michael must be asleep .</td>\n",
              "      <td>michael pasti tertidur .</td>\n",
              "      <td>[41, 201, 1205]</td>\n",
              "      <td>[50, 169, 23, 1170]</td>\n",
              "    </tr>\n",
              "    <tr>\n",
              "      <th>1167</th>\n",
              "      <td>this is my brother .</td>\n",
              "      <td>ini adikku .</td>\n",
              "      <td>[9, 820]</td>\n",
              "      <td>[24, 6, 58, 311]</td>\n",
              "    </tr>\n",
              "    <tr>\n",
              "      <th>7151</th>\n",
              "      <td>maria was injured .</td>\n",
              "      <td>maria telah terluka .</td>\n",
              "      <td>[42, 60, 281]</td>\n",
              "      <td>[51, 13, 520]</td>\n",
              "    </tr>\n",
              "    <tr>\n",
              "      <th>12860</th>\n",
              "      <td>vijay went splashing through the shallows .</td>\n",
              "      <td>vijay pergi melewati sungai yang dangkal denga...</td>\n",
              "      <td>[48, 21, 366, 384, 4, 972, 11, 170, 344]</td>\n",
              "      <td>[56, 119, 989, 359, 3, 990]</td>\n",
              "    </tr>\n",
              "    <tr>\n",
              "      <th>8087</th>\n",
              "      <td>darren speaks very fast .</td>\n",
              "      <td>darren berbicara dengan sangat cepat .</td>\n",
              "      <td>[30, 70, 11, 49, 209]</td>\n",
              "      <td>[40, 403, 78, 298]</td>\n",
              "    </tr>\n",
              "    <tr>\n",
              "      <th>6884</th>\n",
              "      <td>mia is tense .</td>\n",
              "      <td>mia tidak tenang .</td>\n",
              "      <td>[28, 1, 714]</td>\n",
              "      <td>[37, 6, 991]</td>\n",
              "    </tr>\n",
              "    <tr>\n",
              "      <th>6594</th>\n",
              "      <td>due to my lumbago i won t be able to attend ko...</td>\n",
              "      <td>karena sakit punggungku kambuh aku tidak bisa ...</td>\n",
              "      <td>[171, 163, 1877, 1878, 3, 1, 24, 1206, 1879, 1...</td>\n",
              "      <td>[1712, 1, 58, 1713, 2, 187, 7, 23, 258, 1, 139...</td>\n",
              "    </tr>\n",
              "    <tr>\n",
              "      <th>9552</th>\n",
              "      <td>i d like to speak with mommy .</td>\n",
              "      <td>saya ingin berbicara dengan ibu .</td>\n",
              "      <td>[15, 18, 70, 11, 26]</td>\n",
              "      <td>[2, 94, 34, 1, 154, 35, 32]</td>\n",
              "    </tr>\n",
              "    <tr>\n",
              "      <th>6033</th>\n",
              "      <td>you made the mistake on purpose didn t you ?</td>\n",
              "      <td>kamu membuat kesalahan dengan sengaja kan ?</td>\n",
              "      <td>[10, 100, 263, 11, 641, 234]</td>\n",
              "      <td>[4, 145, 3, 521, 30, 1396, 60, 7, 4]</td>\n",
              "    </tr>\n",
              "    <tr>\n",
              "      <th>6707</th>\n",
              "      <td>plenty of opportunities will present themselve...</td>\n",
              "      <td>banyak kesempatan akan muncul dengan sendiriny...</td>\n",
              "      <td>[78, 642, 13, 1881, 11, 1465, 1882, 22, 91, 1883]</td>\n",
              "      <td>[1397, 20, 1715, 88, 742, 1398, 75, 148, 4, 46...</td>\n",
              "    </tr>\n",
              "    <tr>\n",
              "      <th>5095</th>\n",
              "      <td>air is to man what water is to fish .</td>\n",
              "      <td>udara bagi manusia layaknya air bagi ikan .</td>\n",
              "      <td>[1466, 328, 715, 1884, 174, 328, 1207]</td>\n",
              "      <td>[743, 6, 1, 274, 17, 210, 6, 1, 1171]</td>\n",
              "    </tr>\n",
              "    <tr>\n",
              "      <th>8530</th>\n",
              "      <td>maria really misses mary .</td>\n",
              "      <td>maria sungguh merindukan mary .</td>\n",
              "      <td>[42, 282, 345, 6]</td>\n",
              "      <td>[51, 110, 360, 10]</td>\n",
              "    </tr>\n",
              "    <tr>\n",
              "      <th>10297</th>\n",
              "      <td>i knew that darren wasn t hungry .</td>\n",
              "      <td>aku tahu kalau darren tidak lapar .</td>\n",
              "      <td>[3, 16, 61, 30, 1, 283]</td>\n",
              "      <td>[2, 203, 11, 40, 170, 7, 299]</td>\n",
              "    </tr>\n",
              "    <tr>\n",
              "      <th>10939</th>\n",
              "      <td>david filled the glass with water .</td>\n",
              "      <td>david mengisi gelas dengan air .</td>\n",
              "      <td>[45, 1208, 716, 11, 174]</td>\n",
              "      <td>[54, 1172, 3, 744, 35, 210]</td>\n",
              "    </tr>\n",
              "    <tr>\n",
              "      <th>13462</th>\n",
              "      <td>sarah broke mary s expensive chinese ming vase .</td>\n",
              "      <td>sarah memecahkan vas ming dari cina milik mary...</td>\n",
              "      <td>[33, 469, 717, 821, 52, 822, 546, 6, 4, 592]</td>\n",
              "      <td>[42, 259, 10, 9, 607, 846, 847, 745]</td>\n",
              "    </tr>\n",
              "    <tr>\n",
              "      <th>7795</th>\n",
              "      <td>maria came here alone .</td>\n",
              "      <td>maria datang kemari sendirian .</td>\n",
              "      <td>[42, 97, 385, 152]</td>\n",
              "      <td>[51, 260, 64, 125]</td>\n",
              "    </tr>\n",
              "    <tr>\n",
              "      <th>182</th>\n",
              "      <td>i want mine .</td>\n",
              "      <td>aku mau punyaku .</td>\n",
              "      <td>[3, 91, 1467]</td>\n",
              "      <td>[2, 61, 248]</td>\n",
              "    </tr>\n",
              "    <tr>\n",
              "      <th>13359</th>\n",
              "      <td>mommy barely avoided crashing into mary s car .</td>\n",
              "      <td>ibu nyaris menabrak mobil mary .</td>\n",
              "      <td>[26, 718, 823, 113, 6]</td>\n",
              "      <td>[32, 746, 848, 849, 157, 10, 9, 126]</td>\n",
              "    </tr>\n",
              "  </tbody>\n",
              "</table>\n",
              "</div>\n",
              "    <div class=\"colab-df-buttons\">\n",
              "\n",
              "  <div class=\"colab-df-container\">\n",
              "    <button class=\"colab-df-convert\" onclick=\"convertToInteractive('df-6ea44863-5312-4f90-84a8-496f5a6779c9')\"\n",
              "            title=\"Convert this dataframe to an interactive table.\"\n",
              "            style=\"display:none;\">\n",
              "\n",
              "  <svg xmlns=\"http://www.w3.org/2000/svg\" height=\"24px\" viewBox=\"0 -960 960 960\">\n",
              "    <path d=\"M120-120v-720h720v720H120Zm60-500h600v-160H180v160Zm220 220h160v-160H400v160Zm0 220h160v-160H400v160ZM180-400h160v-160H180v160Zm440 0h160v-160H620v160ZM180-180h160v-160H180v160Zm440 0h160v-160H620v160Z\"/>\n",
              "  </svg>\n",
              "    </button>\n",
              "\n",
              "  <style>\n",
              "    .colab-df-container {\n",
              "      display:flex;\n",
              "      gap: 12px;\n",
              "    }\n",
              "\n",
              "    .colab-df-convert {\n",
              "      background-color: #E8F0FE;\n",
              "      border: none;\n",
              "      border-radius: 50%;\n",
              "      cursor: pointer;\n",
              "      display: none;\n",
              "      fill: #1967D2;\n",
              "      height: 32px;\n",
              "      padding: 0 0 0 0;\n",
              "      width: 32px;\n",
              "    }\n",
              "\n",
              "    .colab-df-convert:hover {\n",
              "      background-color: #E2EBFA;\n",
              "      box-shadow: 0px 1px 2px rgba(60, 64, 67, 0.3), 0px 1px 3px 1px rgba(60, 64, 67, 0.15);\n",
              "      fill: #174EA6;\n",
              "    }\n",
              "\n",
              "    .colab-df-buttons div {\n",
              "      margin-bottom: 4px;\n",
              "    }\n",
              "\n",
              "    [theme=dark] .colab-df-convert {\n",
              "      background-color: #3B4455;\n",
              "      fill: #D2E3FC;\n",
              "    }\n",
              "\n",
              "    [theme=dark] .colab-df-convert:hover {\n",
              "      background-color: #434B5C;\n",
              "      box-shadow: 0px 1px 3px 1px rgba(0, 0, 0, 0.15);\n",
              "      filter: drop-shadow(0px 1px 2px rgba(0, 0, 0, 0.3));\n",
              "      fill: #FFFFFF;\n",
              "    }\n",
              "  </style>\n",
              "\n",
              "    <script>\n",
              "      const buttonEl =\n",
              "        document.querySelector('#df-6ea44863-5312-4f90-84a8-496f5a6779c9 button.colab-df-convert');\n",
              "      buttonEl.style.display =\n",
              "        google.colab.kernel.accessAllowed ? 'block' : 'none';\n",
              "\n",
              "      async function convertToInteractive(key) {\n",
              "        const element = document.querySelector('#df-6ea44863-5312-4f90-84a8-496f5a6779c9');\n",
              "        const dataTable =\n",
              "          await google.colab.kernel.invokeFunction('convertToInteractive',\n",
              "                                                    [key], {});\n",
              "        if (!dataTable) return;\n",
              "\n",
              "        const docLinkHtml = 'Like what you see? Visit the ' +\n",
              "          '<a target=\"_blank\" href=https://colab.research.google.com/notebooks/data_table.ipynb>data table notebook</a>'\n",
              "          + ' to learn more about interactive tables.';\n",
              "        element.innerHTML = '';\n",
              "        dataTable['output_type'] = 'display_data';\n",
              "        await google.colab.output.renderOutput(dataTable, element);\n",
              "        const docLink = document.createElement('div');\n",
              "        docLink.innerHTML = docLinkHtml;\n",
              "        element.appendChild(docLink);\n",
              "      }\n",
              "    </script>\n",
              "  </div>\n",
              "\n",
              "\n",
              "<div id=\"df-cbd9cdf9-1e96-4504-b8c5-9d4b99aa5b9f\">\n",
              "  <button class=\"colab-df-quickchart\" onclick=\"quickchart('df-cbd9cdf9-1e96-4504-b8c5-9d4b99aa5b9f')\"\n",
              "            title=\"Suggest charts\"\n",
              "            style=\"display:none;\">\n",
              "\n",
              "<svg xmlns=\"http://www.w3.org/2000/svg\" height=\"24px\"viewBox=\"0 0 24 24\"\n",
              "     width=\"24px\">\n",
              "    <g>\n",
              "        <path d=\"M19 3H5c-1.1 0-2 .9-2 2v14c0 1.1.9 2 2 2h14c1.1 0 2-.9 2-2V5c0-1.1-.9-2-2-2zM9 17H7v-7h2v7zm4 0h-2V7h2v10zm4 0h-2v-4h2v4z\"/>\n",
              "    </g>\n",
              "</svg>\n",
              "  </button>\n",
              "\n",
              "<style>\n",
              "  .colab-df-quickchart {\n",
              "      --bg-color: #E8F0FE;\n",
              "      --fill-color: #1967D2;\n",
              "      --hover-bg-color: #E2EBFA;\n",
              "      --hover-fill-color: #174EA6;\n",
              "      --disabled-fill-color: #AAA;\n",
              "      --disabled-bg-color: #DDD;\n",
              "  }\n",
              "\n",
              "  [theme=dark] .colab-df-quickchart {\n",
              "      --bg-color: #3B4455;\n",
              "      --fill-color: #D2E3FC;\n",
              "      --hover-bg-color: #434B5C;\n",
              "      --hover-fill-color: #FFFFFF;\n",
              "      --disabled-bg-color: #3B4455;\n",
              "      --disabled-fill-color: #666;\n",
              "  }\n",
              "\n",
              "  .colab-df-quickchart {\n",
              "    background-color: var(--bg-color);\n",
              "    border: none;\n",
              "    border-radius: 50%;\n",
              "    cursor: pointer;\n",
              "    display: none;\n",
              "    fill: var(--fill-color);\n",
              "    height: 32px;\n",
              "    padding: 0;\n",
              "    width: 32px;\n",
              "  }\n",
              "\n",
              "  .colab-df-quickchart:hover {\n",
              "    background-color: var(--hover-bg-color);\n",
              "    box-shadow: 0 1px 2px rgba(60, 64, 67, 0.3), 0 1px 3px 1px rgba(60, 64, 67, 0.15);\n",
              "    fill: var(--button-hover-fill-color);\n",
              "  }\n",
              "\n",
              "  .colab-df-quickchart-complete:disabled,\n",
              "  .colab-df-quickchart-complete:disabled:hover {\n",
              "    background-color: var(--disabled-bg-color);\n",
              "    fill: var(--disabled-fill-color);\n",
              "    box-shadow: none;\n",
              "  }\n",
              "\n",
              "  .colab-df-spinner {\n",
              "    border: 2px solid var(--fill-color);\n",
              "    border-color: transparent;\n",
              "    border-bottom-color: var(--fill-color);\n",
              "    animation:\n",
              "      spin 1s steps(1) infinite;\n",
              "  }\n",
              "\n",
              "  @keyframes spin {\n",
              "    0% {\n",
              "      border-color: transparent;\n",
              "      border-bottom-color: var(--fill-color);\n",
              "      border-left-color: var(--fill-color);\n",
              "    }\n",
              "    20% {\n",
              "      border-color: transparent;\n",
              "      border-left-color: var(--fill-color);\n",
              "      border-top-color: var(--fill-color);\n",
              "    }\n",
              "    30% {\n",
              "      border-color: transparent;\n",
              "      border-left-color: var(--fill-color);\n",
              "      border-top-color: var(--fill-color);\n",
              "      border-right-color: var(--fill-color);\n",
              "    }\n",
              "    40% {\n",
              "      border-color: transparent;\n",
              "      border-right-color: var(--fill-color);\n",
              "      border-top-color: var(--fill-color);\n",
              "    }\n",
              "    60% {\n",
              "      border-color: transparent;\n",
              "      border-right-color: var(--fill-color);\n",
              "    }\n",
              "    80% {\n",
              "      border-color: transparent;\n",
              "      border-right-color: var(--fill-color);\n",
              "      border-bottom-color: var(--fill-color);\n",
              "    }\n",
              "    90% {\n",
              "      border-color: transparent;\n",
              "      border-bottom-color: var(--fill-color);\n",
              "    }\n",
              "  }\n",
              "</style>\n",
              "\n",
              "  <script>\n",
              "    async function quickchart(key) {\n",
              "      const quickchartButtonEl =\n",
              "        document.querySelector('#' + key + ' button');\n",
              "      quickchartButtonEl.disabled = true;  // To prevent multiple clicks.\n",
              "      quickchartButtonEl.classList.add('colab-df-spinner');\n",
              "      try {\n",
              "        const charts = await google.colab.kernel.invokeFunction(\n",
              "            'suggestCharts', [key], {});\n",
              "      } catch (error) {\n",
              "        console.error('Error during call to suggestCharts:', error);\n",
              "      }\n",
              "      quickchartButtonEl.classList.remove('colab-df-spinner');\n",
              "      quickchartButtonEl.classList.add('colab-df-quickchart-complete');\n",
              "    }\n",
              "    (() => {\n",
              "      let quickchartButtonEl =\n",
              "        document.querySelector('#df-cbd9cdf9-1e96-4504-b8c5-9d4b99aa5b9f button');\n",
              "      quickchartButtonEl.style.display =\n",
              "        google.colab.kernel.accessAllowed ? 'block' : 'none';\n",
              "    })();\n",
              "  </script>\n",
              "</div>\n",
              "    </div>\n",
              "  </div>\n"
            ],
            "text/plain": [
              "                                                 english  \\\n",
              "11668                ken started to descend the stairs .   \n",
              "3711                               i was born on march .   \n",
              "7682                            michael must be asleep .   \n",
              "1167                                this is my brother .   \n",
              "7151                                 maria was injured .   \n",
              "12860        vijay went splashing through the shallows .   \n",
              "8087                           darren speaks very fast .   \n",
              "6884                                      mia is tense .   \n",
              "6594   due to my lumbago i won t be able to attend ko...   \n",
              "9552                      i d like to speak with mommy .   \n",
              "6033        you made the mistake on purpose didn t you ?   \n",
              "6707   plenty of opportunities will present themselve...   \n",
              "5095               air is to man what water is to fish .   \n",
              "8530                          maria really misses mary .   \n",
              "10297                 i knew that darren wasn t hungry .   \n",
              "10939                david filled the glass with water .   \n",
              "13462   sarah broke mary s expensive chinese ming vase .   \n",
              "7795                             maria came here alone .   \n",
              "182                                        i want mine .   \n",
              "13359    mommy barely avoided crashing into mary s car .   \n",
              "\n",
              "                                              indonesian  \\\n",
              "11668                     ken mulai menuruni tangganya .   \n",
              "3711                     saya lahir pada tanggal maret .   \n",
              "7682                            michael pasti tertidur .   \n",
              "1167                                        ini adikku .   \n",
              "7151                               maria telah terluka .   \n",
              "12860  vijay pergi melewati sungai yang dangkal denga...   \n",
              "8087              darren berbicara dengan sangat cepat .   \n",
              "6884                                  mia tidak tenang .   \n",
              "6594   karena sakit punggungku kambuh aku tidak bisa ...   \n",
              "9552                   saya ingin berbicara dengan ibu .   \n",
              "6033         kamu membuat kesalahan dengan sengaja kan ?   \n",
              "6707   banyak kesempatan akan muncul dengan sendiriny...   \n",
              "5095         udara bagi manusia layaknya air bagi ikan .   \n",
              "8530                     maria sungguh merindukan mary .   \n",
              "10297                aku tahu kalau darren tidak lapar .   \n",
              "10939                   david mengisi gelas dengan air .   \n",
              "13462  sarah memecahkan vas ming dari cina milik mary...   \n",
              "7795                     maria datang kemari sendirian .   \n",
              "182                                    aku mau punyaku .   \n",
              "13359                   ibu nyaris menabrak mobil mary .   \n",
              "\n",
              "                                              id_indices  \\\n",
              "11668                               [29, 200, 343, 1204]   \n",
              "3711                           [15, 971, 51, 1464, 1876]   \n",
              "7682                                     [41, 201, 1205]   \n",
              "1167                                            [9, 820]   \n",
              "7151                                       [42, 60, 281]   \n",
              "12860           [48, 21, 366, 384, 4, 972, 11, 170, 344]   \n",
              "8087                               [30, 70, 11, 49, 209]   \n",
              "6884                                        [28, 1, 714]   \n",
              "6594   [171, 163, 1877, 1878, 3, 1, 24, 1206, 1879, 1...   \n",
              "9552                                [15, 18, 70, 11, 26]   \n",
              "6033                        [10, 100, 263, 11, 641, 234]   \n",
              "6707   [78, 642, 13, 1881, 11, 1465, 1882, 22, 91, 1883]   \n",
              "5095              [1466, 328, 715, 1884, 174, 328, 1207]   \n",
              "8530                                   [42, 282, 345, 6]   \n",
              "10297                            [3, 16, 61, 30, 1, 283]   \n",
              "10939                           [45, 1208, 716, 11, 174]   \n",
              "13462       [33, 469, 717, 821, 52, 822, 546, 6, 4, 592]   \n",
              "7795                                  [42, 97, 385, 152]   \n",
              "182                                        [3, 91, 1467]   \n",
              "13359                             [26, 718, 823, 113, 6]   \n",
              "\n",
              "                                              en_indices  \n",
              "11668                         [39, 426, 1, 1169, 3, 228]  \n",
              "3711                              [2, 13, 988, 30, 1711]  \n",
              "7682                                 [50, 169, 23, 1170]  \n",
              "1167                                    [24, 6, 58, 311]  \n",
              "7151                                       [51, 13, 520]  \n",
              "12860                        [56, 119, 989, 359, 3, 990]  \n",
              "8087                                  [40, 403, 78, 298]  \n",
              "6884                                        [37, 6, 991]  \n",
              "6594   [1712, 1, 58, 1713, 2, 187, 7, 23, 258, 1, 139...  \n",
              "9552                         [2, 94, 34, 1, 154, 35, 32]  \n",
              "6033                [4, 145, 3, 521, 30, 1396, 60, 7, 4]  \n",
              "6707   [1397, 20, 1715, 88, 742, 1398, 75, 148, 4, 46...  \n",
              "5095               [743, 6, 1, 274, 17, 210, 6, 1, 1171]  \n",
              "8530                                  [51, 110, 360, 10]  \n",
              "10297                      [2, 203, 11, 40, 170, 7, 299]  \n",
              "10939                        [54, 1172, 3, 744, 35, 210]  \n",
              "13462               [42, 259, 10, 9, 607, 846, 847, 745]  \n",
              "7795                                  [51, 260, 64, 125]  \n",
              "182                                         [2, 61, 248]  \n",
              "13359               [32, 746, 848, 849, 157, 10, 9, 126]  "
            ]
          },
          "execution_count": 9,
          "metadata": {},
          "output_type": "execute_result"
        }
      ],
      "source": [
        "doc.head(20)"
      ]
    },
    {
      "cell_type": "code",
      "execution_count": null,
      "metadata": {
        "id": "pxs7_mVQVr-U"
      },
      "outputs": [],
      "source": [
        "# Padding\n",
        "padded_id_indices = tf.keras.preprocessing.sequence.pad_sequences(doc[\"id_indices\"], padding=\"post\")\n",
        "padded_en_indices = tf.keras.preprocessing.sequence.pad_sequences(doc[\"en_indices\"], padding=\"post\")"
      ]
    },
    {
      "cell_type": "code",
      "execution_count": null,
      "metadata": {
        "colab": {
          "base_uri": "https://localhost:8080/"
        },
        "id": "NbbNv-HvVxlh",
        "outputId": "9071ee66-4aa0-4030-ad78-c49f9f7b1052"
      },
      "outputs": [
        {
          "data": {
            "text/plain": [
              "(6500, 25)"
            ]
          },
          "execution_count": 11,
          "metadata": {},
          "output_type": "execute_result"
        }
      ],
      "source": [
        "padded_id_indices.shape"
      ]
    },
    {
      "cell_type": "code",
      "execution_count": null,
      "metadata": {
        "colab": {
          "base_uri": "https://localhost:8080/"
        },
        "id": "ZV1pItR5V1Ph",
        "outputId": "da8316c1-89c7-4bf1-9330-f7c5d853896f"
      },
      "outputs": [
        {
          "data": {
            "text/plain": [
              "(6500, 24)"
            ]
          },
          "execution_count": 12,
          "metadata": {},
          "output_type": "execute_result"
        }
      ],
      "source": [
        "padded_en_indices.shape"
      ]
    },
    {
      "cell_type": "code",
      "execution_count": null,
      "metadata": {
        "colab": {
          "base_uri": "https://localhost:8080/"
        },
        "id": "Z7rPC9hoV4tr",
        "outputId": "8074a07d-2ce3-4ef5-fdd7-12d1a8543f21"
      },
      "outputs": [
        {
          "data": {
            "text/plain": [
              "(6500, 25, 2577)"
            ]
          },
          "execution_count": 10,
          "metadata": {},
          "output_type": "execute_result"
        }
      ],
      "source": [
        "binarized_en_indices = tf.keras.utils.to_categorical(padded_en_indices)\n",
        "binarized_en_indices.shape"
      ]
    },
    {
      "cell_type": "code",
      "execution_count": null,
      "metadata": {
        "id": "mgwcSWhtV8h2"
      },
      "outputs": [],
      "source": [
        "id_ds = tf.data.Dataset.from_tensor_slices(padded_id_indices)\n",
        "en_ds = tf.data.Dataset.from_tensor_slices(binarized_en_indices)"
      ]
    },
    {
      "cell_type": "code",
      "execution_count": null,
      "metadata": {
        "id": "w1-DbQuDWGcN"
      },
      "outputs": [],
      "source": [
        "tf_ds = tf.data.Dataset.zip((id_ds, en_ds))"
      ]
    },
    {
      "cell_type": "code",
      "execution_count": null,
      "metadata": {
        "colab": {
          "base_uri": "https://localhost:8080/"
        },
        "id": "a9eiP8EkWLcY",
        "outputId": "7475d63c-ee6d-4096-97c8-cd0974e7ed64"
      },
      "outputs": [
        {
          "name": "stdout",
          "output_type": "stream",
          "text": [
            "tf.Tensor(\n",
            "[339 135  10   0   0   0   0   0   0   0   0   0   0   0   0   0   0   0\n",
            "   0], shape=(19,), dtype=int32)\n",
            "tf.Tensor(\n",
            "[[0. 0. 0. ... 0. 0. 0.]\n",
            " [0. 0. 0. ... 0. 0. 0.]\n",
            " [0. 0. 0. ... 0. 0. 0.]\n",
            " ...\n",
            " [1. 0. 0. ... 0. 0. 0.]\n",
            " [1. 0. 0. ... 0. 0. 0.]\n",
            " [1. 0. 0. ... 0. 0. 0.]], shape=(25, 2577), dtype=float32)\n"
          ]
        }
      ],
      "source": [
        "id_tensor, en_tensor = next(iter(tf_ds))\n",
        "print(id_tensor)\n",
        "print(en_tensor)"
      ]
    },
    {
      "cell_type": "code",
      "execution_count": null,
      "metadata": {
        "id": "4bNy5jLfWRPu"
      },
      "outputs": [],
      "source": [
        "# Shuffle & Batch\n",
        "BATCH_SIZE = 32\n",
        "vocab_size_id = len(tokenizer_id.word_index)\n",
        "vocab_size_en = len(tokenizer_en.word_index)"
      ]
    },
    {
      "cell_type": "code",
      "execution_count": null,
      "metadata": {
        "id": "qu1W4ZruWYgV"
      },
      "outputs": [],
      "source": [
        "# Train Test Split\n",
        "TAKE_SIZE = int(0.7*len(doc))\n",
        "\n",
        "train_data = tf_ds.take(TAKE_SIZE)\n",
        "test_data = tf_ds.skip(TAKE_SIZE)\n",
        "\n",
        "train_data = train_data.shuffle(TAKE_SIZE).batch(BATCH_SIZE)\n",
        "test_data = test_data.shuffle(len(doc) - TAKE_SIZE).batch(BATCH_SIZE)"
      ]
    },
    {
      "cell_type": "code",
      "execution_count": null,
      "metadata": {
        "id": "ZtbS5RzlXGUT"
      },
      "outputs": [],
      "source": [
        "# Create the model\n",
        "model = tf.keras.Sequential([\n",
        "                  # Input Word Embedding layer\n",
        "                  tf.keras.layers.Embedding(vocab_size_id+1, 64, mask_zero=True),\n",
        "\n",
        "                  # LSTM Bidirectional layer\n",
        "                  tf.keras.layers.Bidirectional(tf.keras.layers.LSTM(64, return_sequences=True)),\n",
        "\n",
        "                  # LSTM Bidirectionnal new layer\n",
        "                  tf.keras.layers.Bidirectional(tf.keras.layers.LSTM(64, return_sequences=False)),\n",
        "\n",
        "                  # Repeat Vector\n",
        "                  tf.keras.layers.RepeatVector(binarized_en_indices.shape[1]),\n",
        "\n",
        "                  # LSTM new layer\n",
        "                  tf.keras.layers.LSTM(32, return_sequences=True),\n",
        "\n",
        "                  # Output layer with number of output neurons equal to class number with softmax function\n",
        "                  tf.keras.layers.TimeDistributed(tf.keras.layers.Dense(vocab_size_en+1, activation=\"softmax\"))\n",
        "\n",
        "])"
      ]
    },
    {
      "cell_type": "code",
      "execution_count": null,
      "metadata": {
        "colab": {
          "base_uri": "https://localhost:8080/"
        },
        "id": "L-7-TyorXMqj",
        "outputId": "d55af5b0-c333-4fe5-d5d9-b344695f257d"
      },
      "outputs": [
        {
          "name": "stdout",
          "output_type": "stream",
          "text": [
            "Model: \"sequential\"\n",
            "_________________________________________________________________\n",
            " Layer (type)                Output Shape              Param #   \n",
            "=================================================================\n",
            " embedding (Embedding)       (None, None, 64)          191424    \n",
            "                                                                 \n",
            " bidirectional (Bidirection  (None, None, 128)         66048     \n",
            " al)                                                             \n",
            "                                                                 \n",
            " bidirectional_1 (Bidirecti  (None, 128)               98816     \n",
            " onal)                                                           \n",
            "                                                                 \n",
            " repeat_vector (RepeatVecto  (None, 24, 128)           0         \n",
            " r)                                                              \n",
            "                                                                 \n",
            " lstm_2 (LSTM)               (None, 24, 32)            20608     \n",
            "                                                                 \n",
            " time_distributed (TimeDist  (None, 24, 2575)          84975     \n",
            " ributed)                                                        \n",
            "                                                                 \n",
            "=================================================================\n",
            "Total params: 461871 (1.76 MB)\n",
            "Trainable params: 461871 (1.76 MB)\n",
            "Non-trainable params: 0 (0.00 Byte)\n",
            "_________________________________________________________________\n"
          ]
        }
      ],
      "source": [
        "model.summary()"
      ]
    },
    {
      "cell_type": "code",
      "execution_count": null,
      "metadata": {
        "colab": {
          "base_uri": "https://localhost:8080/"
        },
        "id": "QJXw6CZPXQ5S",
        "outputId": "d2c51467-ff9b-4821-dc1f-be2f1a3321cd"
      },
      "outputs": [
        {
          "name": "stdout",
          "output_type": "stream",
          "text": [
            "(32, 25)\n",
            "1/1 [==============================] - 6s 6s/step\n",
            "(32, 24, 2575)\n",
            "(32, 24, 2575)\n"
          ]
        }
      ],
      "source": [
        "# \"Random\" prediction to test our model\n",
        "input_text, output_text = next(iter(train_data))\n",
        "print(input_text.numpy().shape)\n",
        "print(model.predict(input_text).shape)\n",
        "print(output_text.numpy().shape)"
      ]
    },
    {
      "cell_type": "code",
      "execution_count": null,
      "metadata": {
        "id": "GK0yhMn2XYDW"
      },
      "outputs": [],
      "source": [
        "# Using a simple compiler with an Adam optimizer to compute our gradients\n",
        "optimizer= tf.keras.optimizers.Adam()\n",
        "\n",
        "model.compile(optimizer=optimizer,\n",
        "              loss=tf.keras.losses.CategoricalCrossentropy(),\n",
        "              metrics=[tf.keras.metrics.CategoricalAccuracy()])"
      ]
    },
    {
      "cell_type": "code",
      "execution_count": null,
      "metadata": {
        "id": "nXPvSO8Rzja0"
      },
      "outputs": [],
      "source": [
        "# from keras import callbacks\n",
        "\n",
        "# early_stop = callbacks.EarlyStopping(\n",
        "#     monitor=\"val_loss\",\n",
        "#     mode=\"min\",\n",
        "#     patience=3,\n",
        "#     restore_best_weights=True\n",
        "# )"
      ]
    },
    {
      "cell_type": "code",
      "execution_count": null,
      "metadata": {
        "colab": {
          "background_save": true,
          "base_uri": "https://localhost:8080/"
        },
        "id": "dX00nLdOXbkU",
        "outputId": "4c585e25-4d07-4a1c-bdad-59594c0ce006"
      },
      "outputs": [
        {
          "name": "stdout",
          "output_type": "stream",
          "text": [
            "Epoch 1/200\n",
            "143/143 [==============================] - 53s 242ms/step - loss: 4.3521 - categorical_accuracy: 0.7195 - val_loss: 2.3137 - val_categorical_accuracy: 0.7251\n",
            "Epoch 2/200\n",
            "143/143 [==============================] - 31s 215ms/step - loss: 2.2395 - categorical_accuracy: 0.7245 - val_loss: 2.1710 - val_categorical_accuracy: 0.7251\n",
            "Epoch 3/200\n",
            "143/143 [==============================] - 31s 215ms/step - loss: 2.0351 - categorical_accuracy: 0.7245 - val_loss: 1.9587 - val_categorical_accuracy: 0.7251\n",
            "Epoch 4/200\n",
            "143/143 [==============================] - 30s 210ms/step - loss: 1.8954 - categorical_accuracy: 0.7245 - val_loss: 1.8705 - val_categorical_accuracy: 0.7251\n",
            "Epoch 5/200\n",
            "143/143 [==============================] - 28s 194ms/step - loss: 1.8238 - categorical_accuracy: 0.7245 - val_loss: 1.8175 - val_categorical_accuracy: 0.7251\n",
            "Epoch 6/200\n",
            "143/143 [==============================] - 29s 202ms/step - loss: 1.7802 - categorical_accuracy: 0.7245 - val_loss: 1.7919 - val_categorical_accuracy: 0.7247\n",
            "Epoch 7/200\n",
            "143/143 [==============================] - 26s 184ms/step - loss: 1.7489 - categorical_accuracy: 0.7276 - val_loss: 1.7681 - val_categorical_accuracy: 0.7305\n",
            "Epoch 8/200\n",
            "143/143 [==============================] - 26s 185ms/step - loss: 1.7241 - categorical_accuracy: 0.7309 - val_loss: 1.7509 - val_categorical_accuracy: 0.7307\n",
            "Epoch 9/200\n",
            "143/143 [==============================] - 26s 182ms/step - loss: 1.7066 - categorical_accuracy: 0.7315 - val_loss: 1.7341 - val_categorical_accuracy: 0.7330\n",
            "Epoch 10/200\n",
            "143/143 [==============================] - 27s 186ms/step - loss: 1.6889 - categorical_accuracy: 0.7330 - val_loss: 1.7215 - val_categorical_accuracy: 0.7339\n",
            "Epoch 11/200\n",
            "143/143 [==============================] - 29s 201ms/step - loss: 1.6745 - categorical_accuracy: 0.7342 - val_loss: 1.7136 - val_categorical_accuracy: 0.7347\n",
            "Epoch 12/200\n",
            "143/143 [==============================] - 26s 183ms/step - loss: 1.6629 - categorical_accuracy: 0.7350 - val_loss: 1.7092 - val_categorical_accuracy: 0.7352\n",
            "Epoch 13/200\n",
            "143/143 [==============================] - 28s 199ms/step - loss: 1.6538 - categorical_accuracy: 0.7360 - val_loss: 1.7003 - val_categorical_accuracy: 0.7366\n",
            "Epoch 14/200\n",
            "143/143 [==============================] - 29s 199ms/step - loss: 1.6431 - categorical_accuracy: 0.7369 - val_loss: 1.6949 - val_categorical_accuracy: 0.7369\n",
            "Epoch 15/200\n",
            "143/143 [==============================] - 26s 184ms/step - loss: 1.6361 - categorical_accuracy: 0.7376 - val_loss: 1.6955 - val_categorical_accuracy: 0.7378\n",
            "Epoch 16/200\n",
            "143/143 [==============================] - 30s 207ms/step - loss: 1.6280 - categorical_accuracy: 0.7385 - val_loss: 1.6903 - val_categorical_accuracy: 0.7388\n",
            "Epoch 17/200\n",
            "143/143 [==============================] - 27s 190ms/step - loss: 1.6203 - categorical_accuracy: 0.7402 - val_loss: 1.6828 - val_categorical_accuracy: 0.7410\n",
            "Epoch 18/200\n",
            "143/143 [==============================] - 27s 189ms/step - loss: 1.6133 - categorical_accuracy: 0.7417 - val_loss: 1.6788 - val_categorical_accuracy: 0.7416\n",
            "Epoch 19/200\n",
            "143/143 [==============================] - 30s 210ms/step - loss: 1.6082 - categorical_accuracy: 0.7424 - val_loss: 1.6763 - val_categorical_accuracy: 0.7417\n",
            "Epoch 20/200\n",
            "143/143 [==============================] - 29s 206ms/step - loss: 1.6026 - categorical_accuracy: 0.7429 - val_loss: 1.6728 - val_categorical_accuracy: 0.7419\n",
            "Epoch 21/200\n",
            "143/143 [==============================] - 29s 204ms/step - loss: 1.5956 - categorical_accuracy: 0.7436 - val_loss: 1.6706 - val_categorical_accuracy: 0.7421\n",
            "Epoch 22/200\n",
            "143/143 [==============================] - 27s 189ms/step - loss: 1.5883 - categorical_accuracy: 0.7438 - val_loss: 1.6670 - val_categorical_accuracy: 0.7425\n",
            "Epoch 23/200\n",
            "143/143 [==============================] - 28s 198ms/step - loss: 1.5833 - categorical_accuracy: 0.7443 - val_loss: 1.6651 - val_categorical_accuracy: 0.7421\n",
            "Epoch 24/200\n",
            "143/143 [==============================] - 26s 184ms/step - loss: 1.5767 - categorical_accuracy: 0.7443 - val_loss: 1.6618 - val_categorical_accuracy: 0.7427\n",
            "Epoch 25/200\n",
            "143/143 [==============================] - 26s 180ms/step - loss: 1.5703 - categorical_accuracy: 0.7450 - val_loss: 1.6597 - val_categorical_accuracy: 0.7421\n",
            "Epoch 26/200\n",
            "143/143 [==============================] - 27s 188ms/step - loss: 1.5671 - categorical_accuracy: 0.7450 - val_loss: 1.6564 - val_categorical_accuracy: 0.7428\n",
            "Epoch 27/200\n",
            "143/143 [==============================] - 29s 201ms/step - loss: 1.5571 - categorical_accuracy: 0.7455 - val_loss: 1.6512 - val_categorical_accuracy: 0.7425\n",
            "Epoch 28/200\n",
            "143/143 [==============================] - 32s 221ms/step - loss: 1.5480 - categorical_accuracy: 0.7459 - val_loss: 1.6480 - val_categorical_accuracy: 0.7428\n",
            "Epoch 29/200\n",
            "143/143 [==============================] - 30s 210ms/step - loss: 1.5419 - categorical_accuracy: 0.7464 - val_loss: 1.6486 - val_categorical_accuracy: 0.7435\n",
            "Epoch 30/200\n",
            "143/143 [==============================] - 29s 203ms/step - loss: 1.5372 - categorical_accuracy: 0.7467 - val_loss: 1.6431 - val_categorical_accuracy: 0.7436\n",
            "Epoch 31/200\n",
            "143/143 [==============================] - 30s 207ms/step - loss: 1.5312 - categorical_accuracy: 0.7475 - val_loss: 1.6384 - val_categorical_accuracy: 0.7433\n",
            "Epoch 32/200\n",
            "143/143 [==============================] - 27s 186ms/step - loss: 1.5223 - categorical_accuracy: 0.7476 - val_loss: 1.6323 - val_categorical_accuracy: 0.7438\n",
            "Epoch 33/200\n",
            "143/143 [==============================] - 29s 201ms/step - loss: 1.5098 - categorical_accuracy: 0.7481 - val_loss: 1.6337 - val_categorical_accuracy: 0.7436\n",
            "Epoch 34/200\n",
            "143/143 [==============================] - 31s 215ms/step - loss: 1.5029 - categorical_accuracy: 0.7487 - val_loss: 1.6213 - val_categorical_accuracy: 0.7451\n",
            "Epoch 35/200\n",
            "143/143 [==============================] - 30s 212ms/step - loss: 1.4897 - categorical_accuracy: 0.7495 - val_loss: 1.6121 - val_categorical_accuracy: 0.7451\n",
            "Epoch 36/200\n",
            "143/143 [==============================] - 30s 213ms/step - loss: 1.4793 - categorical_accuracy: 0.7502 - val_loss: 1.6156 - val_categorical_accuracy: 0.7456\n",
            "Epoch 37/200\n",
            "143/143 [==============================] - 30s 208ms/step - loss: 1.4724 - categorical_accuracy: 0.7504 - val_loss: 1.6023 - val_categorical_accuracy: 0.7454\n",
            "Epoch 38/200\n",
            "143/143 [==============================] - 30s 210ms/step - loss: 1.4636 - categorical_accuracy: 0.7512 - val_loss: 1.5990 - val_categorical_accuracy: 0.7466\n",
            "Epoch 39/200\n",
            "143/143 [==============================] - 28s 195ms/step - loss: 1.4556 - categorical_accuracy: 0.7517 - val_loss: 1.5925 - val_categorical_accuracy: 0.7465\n",
            "Epoch 40/200\n",
            "143/143 [==============================] - 27s 186ms/step - loss: 1.4458 - categorical_accuracy: 0.7522 - val_loss: 1.5924 - val_categorical_accuracy: 0.7464\n",
            "Epoch 41/200\n",
            "143/143 [==============================] - 26s 184ms/step - loss: 1.4370 - categorical_accuracy: 0.7527 - val_loss: 1.5868 - val_categorical_accuracy: 0.7473\n",
            "Epoch 42/200\n",
            "143/143 [==============================] - 29s 200ms/step - loss: 1.4300 - categorical_accuracy: 0.7532 - val_loss: 1.5865 - val_categorical_accuracy: 0.7475\n",
            "Epoch 43/200\n",
            "143/143 [==============================] - 27s 192ms/step - loss: 1.4214 - categorical_accuracy: 0.7539 - val_loss: 1.5821 - val_categorical_accuracy: 0.7479\n",
            "Epoch 44/200\n",
            "143/143 [==============================] - 29s 200ms/step - loss: 1.4131 - categorical_accuracy: 0.7541 - val_loss: 1.5831 - val_categorical_accuracy: 0.7493\n",
            "Epoch 45/200\n",
            "143/143 [==============================] - 30s 209ms/step - loss: 1.4088 - categorical_accuracy: 0.7547 - val_loss: 1.5843 - val_categorical_accuracy: 0.7491\n",
            "Epoch 46/200\n",
            "143/143 [==============================] - 28s 195ms/step - loss: 1.4034 - categorical_accuracy: 0.7552 - val_loss: 1.5742 - val_categorical_accuracy: 0.7498\n",
            "Epoch 47/200\n",
            "143/143 [==============================] - 28s 194ms/step - loss: 1.3921 - categorical_accuracy: 0.7557 - val_loss: 1.5735 - val_categorical_accuracy: 0.7484\n",
            "Epoch 48/200\n",
            "143/143 [==============================] - 29s 205ms/step - loss: 1.3859 - categorical_accuracy: 0.7560 - val_loss: 1.5660 - val_categorical_accuracy: 0.7496\n",
            "Epoch 49/200\n",
            "143/143 [==============================] - 26s 180ms/step - loss: 1.3781 - categorical_accuracy: 0.7567 - val_loss: 1.5683 - val_categorical_accuracy: 0.7507\n",
            "Epoch 50/200\n",
            "143/143 [==============================] - 28s 198ms/step - loss: 1.3713 - categorical_accuracy: 0.7570 - val_loss: 1.5635 - val_categorical_accuracy: 0.7491\n"
          ]
        }
      ],
      "source": [
        "# Application of the model on 200 epochs\n",
        "history = model.fit(train_data,\n",
        "                    validation_data=test_data,\n",
        "                    epochs=200,\n",
        "                    # verbose=1,\n",
        "                    # callbacks=[early_stop]\n",
        "                    )"
      ]
    },
    {
      "cell_type": "code",
      "execution_count": null,
      "metadata": {
        "colab": {
          "base_uri": "https://localhost:8080/"
        },
        "id": "miE6-E9oXeM1",
        "outputId": "bcd94bd2-51d5-4d59-a2c0-82e546bf66ef"
      },
      "outputs": [
        {
          "name": "stdout",
          "output_type": "stream",
          "text": [
            "1/1 [==============================] - 11s 11s/step\n"
          ]
        }
      ],
      "source": [
        "# Testing a translation\n",
        "for input_text, translation in test_data.take(1):\n",
        "  pred = model.predict(input_text)"
      ]
    },
    {
      "cell_type": "code",
      "execution_count": null,
      "metadata": {
        "colab": {
          "base_uri": "https://localhost:8080/"
        },
        "id": "o4pUCKBDYSYt",
        "outputId": "bc3e8ec1-4e1d-4376-9b23-25206523ed4f"
      },
      "outputs": [
        {
          "data": {
            "text/plain": [
              "['mata ayah merah dan ia terlihat sangat lelah',\n",
              " 'apa david tahu apa yang harus ia lakukan',\n",
              " 'polisi melihat pelaku kriminal itu melarikan diri',\n",
              " 'aku sudah tidak lagi mempercayai dia',\n",
              " 'kami tidak mengerti kenapa tom melakukan apa yang dilakukannya',\n",
              " 'anda punya apa',\n",
              " 'bisakah saya meminjam mobil anda sebentar',\n",
              " 'carrie sampai tidak sanggup melihat ke arah mary',\n",
              " 'apa masalahmu',\n",
              " 'vijay benar benar kelelahan',\n",
              " 'jenis makanan apa yang harus ku bawa',\n",
              " 'kim sampai di rumah lewat tengah malam',\n",
              " 'nancy tidak tahu cara berbicara bahasa perancis',\n",
              " 'kurasa mia akan segera kembali',\n",
              " 'aku pikir kita akan baik baik saja',\n",
              " 'payung ini berapa harganya',\n",
              " 'lee tidak lemah',\n",
              " 'kamu tahu semua yang kulakukan john',\n",
              " 'kau terlambat untuk bekerja',\n",
              " 'angin sedang berhembus dari utara',\n",
              " 'tom tidak akan duduk',\n",
              " 'akan kutunggu di halte bus',\n",
              " 'maria masih ada waktu',\n",
              " 'aku akan membawanya kembali',\n",
              " 'ibu masih tidak mengangkat teleponnya',\n",
              " 'sarah mendorong kursi roda melewati lorong',\n",
              " 'kamu boleh pilih buku mana saja yang kamu suka',\n",
              " 'makanlah sesuatu',\n",
              " 'kamu lelah ya',\n",
              " 'carrie menerima surat dari mary',\n",
              " 'ada apa',\n",
              " 'aku melihat jack di lorong']"
            ]
          },
          "execution_count": 25,
          "metadata": {},
          "output_type": "execute_result"
        }
      ],
      "source": [
        "tokenizer_id.sequences_to_texts(input_text.numpy())"
      ]
    },
    {
      "cell_type": "code",
      "execution_count": null,
      "metadata": {
        "colab": {
          "base_uri": "https://localhost:8080/"
        },
        "id": "V4D2g1MJYUGj",
        "outputId": "a1f67317-e54f-4600-f3b9-b78f03ca882b"
      },
      "outputs": [
        {
          "data": {
            "text/plain": [
              "['daddy s eyes are red and he looks very tired',\n",
              " 'did david know what to do',\n",
              " 'the police caught sight of the criminal running away',\n",
              " 'i don t trust him any longer',\n",
              " 'we re not entirely sure why tom did what he did',\n",
              " 'what do you have',\n",
              " 'can i use your car for a little while',\n",
              " 'carrie couldn t even look at mary',\n",
              " 'what is your problem',\n",
              " 'vijay was all worn out',\n",
              " 'what kind of food do you want me to bring',\n",
              " 'kim got home after midnight',\n",
              " 'nancy doesn t know how to speak french',\n",
              " 'i think mia will return soon',\n",
              " 'i think we ll be ok',\n",
              " 'how much is this umbrella',\n",
              " 'lee s not weak',\n",
              " 'you know everything i do john',\n",
              " 'you were late for work',\n",
              " 'the wind is blowing from the north',\n",
              " 'tom wouldn t sit down',\n",
              " 'i ll wait at the bus stop',\n",
              " 'maria still has some time',\n",
              " 'i ll bring it back',\n",
              " 'mommy is still not answering his phone',\n",
              " 'sarah pushed the wheelchair down the hall',\n",
              " 'you may choose whichever book you like',\n",
              " 'eat something',\n",
              " 'you are tired aren t you',\n",
              " 'carrie received a letter from mary',\n",
              " 'what s up',\n",
              " 'i saw jack in the hall']"
            ]
          },
          "execution_count": 26,
          "metadata": {},
          "output_type": "execute_result"
        }
      ],
      "source": [
        "tokenizer_en.sequences_to_texts(tf.argmax(translation, axis=-1).numpy())"
      ]
    },
    {
      "cell_type": "code",
      "execution_count": null,
      "metadata": {
        "colab": {
          "base_uri": "https://localhost:8080/"
        },
        "id": "kFRdqxGbYc-F",
        "outputId": "d280418e-c455-4ed2-889f-27ffeaaad464"
      },
      "outputs": [
        {
          "data": {
            "text/plain": [
              "['lim s i s t s been been very today',\n",
              " 'we could what what do do',\n",
              " 'that has been no quieted three mother years',\n",
              " 'i shouldn t like any any longer',\n",
              " 'we may to entirely sure he he he he did it',\n",
              " 'are you you',\n",
              " 'have you to to to go yourself',\n",
              " 'darren shouldn t where look mary mary',\n",
              " 'is re happy',\n",
              " 'lim was completely worn out',\n",
              " 'she was a a a s s s eat',\n",
              " 'david got at the midnight',\n",
              " 'carrie doesn t know that to here be',\n",
              " 'i think i will return soon',\n",
              " 'i don t think i about about leave',\n",
              " 'what does lim might possibly happen',\n",
              " 'lim isn t weak',\n",
              " 'you know i do do that',\n",
              " 'can to be fight alone',\n",
              " 'lee is broke at water',\n",
              " 'tom won t be be',\n",
              " 'i d to to the do do do the the the help',\n",
              " 'john is is in time',\n",
              " 'i m the back',\n",
              " 'michael is not not answering his phone',\n",
              " 'tom pushed the wheelchair through the hall',\n",
              " 'don you you you you look about tom',\n",
              " 'where s to',\n",
              " 'you ve afraid tom t you',\n",
              " 'darren received a than mary mary',\n",
              " 'what s the matter',\n",
              " 'i saw up in the hall']"
            ]
          },
          "execution_count": 27,
          "metadata": {},
          "output_type": "execute_result"
        }
      ],
      "source": [
        "tokenizer_en.sequences_to_texts(tf.argmax(pred, axis=-1).numpy())"
      ]
    },
    {
      "cell_type": "code",
      "execution_count": null,
      "metadata": {
        "colab": {
          "base_uri": "https://localhost:8080/"
        },
        "id": "oV3ZwpgLWSWq",
        "outputId": "46c55843-776a-4b1c-a563-e80893ca2c60"
      },
      "outputs": [
        {
          "name": "stdout",
          "output_type": "stream",
          "text": [
            "  adding: machine_translation_k1/ (stored 0%)\n",
            "  adding: machine_translation_k1/variables/ (stored 0%)\n",
            "  adding: machine_translation_k1/variables/variables.index (deflated 68%)\n",
            "  adding: machine_translation_k1/variables/variables.data-00000-of-00001 (deflated 10%)\n",
            "  adding: machine_translation_k1/keras_metadata.pb (deflated 93%)\n",
            "  adding: machine_translation_k1/saved_model.pb (deflated 90%)\n",
            "  adding: machine_translation_k1/assets/ (stored 0%)\n",
            "  adding: machine_translation_k1/fingerprint.pb (stored 0%)\n"
          ]
        }
      ],
      "source": [
        "model.save('machine_translation_k1.keras')\n",
        "model.save('machine_translation_k1')\n",
        "!zip -r 'machine_translation_k1.zip' 'machine_translation_k1'"
      ]
    },
    {
      "cell_type": "code",
      "execution_count": null,
      "metadata": {
        "id": "ZPZzITcKf79y"
      },
      "outputs": [],
      "source": [
        "import pickle\n",
        "\n",
        "with open('history.pkl', 'wb') as f:\n",
        "    pickle.dump(history, f)"
      ]
    },
    {
      "cell_type": "code",
      "execution_count": null,
      "metadata": {
        "id": "BOcoEDuvjRX1"
      },
      "outputs": [],
      "source": [
        "from google.colab import files"
      ]
    },
    {
      "cell_type": "code",
      "execution_count": null,
      "metadata": {
        "colab": {
          "base_uri": "https://localhost:8080/",
          "height": 69
        },
        "id": "5uatf4d2nowm",
        "outputId": "ef2a0e6a-cf8b-4010-d81f-685040ca8b32"
      },
      "outputs": [
        {
          "data": {
            "application/javascript": [
              "\n",
              "    async function download(id, filename, size) {\n",
              "      if (!google.colab.kernel.accessAllowed) {\n",
              "        return;\n",
              "      }\n",
              "      const div = document.createElement('div');\n",
              "      const label = document.createElement('label');\n",
              "      label.textContent = `Downloading \"${filename}\": `;\n",
              "      div.appendChild(label);\n",
              "      const progress = document.createElement('progress');\n",
              "      progress.max = size;\n",
              "      div.appendChild(progress);\n",
              "      document.body.appendChild(div);\n",
              "\n",
              "      const buffers = [];\n",
              "      let downloaded = 0;\n",
              "\n",
              "      const channel = await google.colab.kernel.comms.open(id);\n",
              "      // Send a message to notify the kernel that we're ready.\n",
              "      channel.send({})\n",
              "\n",
              "      for await (const message of channel.messages) {\n",
              "        // Send a message to notify the kernel that we're ready.\n",
              "        channel.send({})\n",
              "        if (message.buffers) {\n",
              "          for (const buffer of message.buffers) {\n",
              "            buffers.push(buffer);\n",
              "            downloaded += buffer.byteLength;\n",
              "            progress.value = downloaded;\n",
              "          }\n",
              "        }\n",
              "      }\n",
              "      const blob = new Blob(buffers, {type: 'application/binary'});\n",
              "      const a = document.createElement('a');\n",
              "      a.href = window.URL.createObjectURL(blob);\n",
              "      a.download = filename;\n",
              "      div.appendChild(a);\n",
              "      a.click();\n",
              "      div.remove();\n",
              "    }\n",
              "  "
            ],
            "text/plain": [
              "<IPython.core.display.Javascript object>"
            ]
          },
          "metadata": {},
          "output_type": "display_data"
        },
        {
          "data": {
            "application/javascript": [
              "download(\"download_8489cd99-3f9e-4aa8-a2ac-0acc33a1f3dc\", \"machine_translation_k1.keras\", 5615721)"
            ],
            "text/plain": [
              "<IPython.core.display.Javascript object>"
            ]
          },
          "metadata": {},
          "output_type": "display_data"
        },
        {
          "data": {
            "application/javascript": [
              "\n",
              "    async function download(id, filename, size) {\n",
              "      if (!google.colab.kernel.accessAllowed) {\n",
              "        return;\n",
              "      }\n",
              "      const div = document.createElement('div');\n",
              "      const label = document.createElement('label');\n",
              "      label.textContent = `Downloading \"${filename}\": `;\n",
              "      div.appendChild(label);\n",
              "      const progress = document.createElement('progress');\n",
              "      progress.max = size;\n",
              "      div.appendChild(progress);\n",
              "      document.body.appendChild(div);\n",
              "\n",
              "      const buffers = [];\n",
              "      let downloaded = 0;\n",
              "\n",
              "      const channel = await google.colab.kernel.comms.open(id);\n",
              "      // Send a message to notify the kernel that we're ready.\n",
              "      channel.send({})\n",
              "\n",
              "      for await (const message of channel.messages) {\n",
              "        // Send a message to notify the kernel that we're ready.\n",
              "        channel.send({})\n",
              "        if (message.buffers) {\n",
              "          for (const buffer of message.buffers) {\n",
              "            buffers.push(buffer);\n",
              "            downloaded += buffer.byteLength;\n",
              "            progress.value = downloaded;\n",
              "          }\n",
              "        }\n",
              "      }\n",
              "      const blob = new Blob(buffers, {type: 'application/binary'});\n",
              "      const a = document.createElement('a');\n",
              "      a.href = window.URL.createObjectURL(blob);\n",
              "      a.download = filename;\n",
              "      div.appendChild(a);\n",
              "      a.click();\n",
              "      div.remove();\n",
              "    }\n",
              "  "
            ],
            "text/plain": [
              "<IPython.core.display.Javascript object>"
            ]
          },
          "metadata": {},
          "output_type": "display_data"
        },
        {
          "data": {
            "application/javascript": [
              "download(\"download_fba4c1dc-52d6-450e-8f9b-937257c463ca\", \"machine_translation_k1.zip\", 6073552)"
            ],
            "text/plain": [
              "<IPython.core.display.Javascript object>"
            ]
          },
          "metadata": {},
          "output_type": "display_data"
        },
        {
          "data": {
            "application/javascript": [
              "\n",
              "    async function download(id, filename, size) {\n",
              "      if (!google.colab.kernel.accessAllowed) {\n",
              "        return;\n",
              "      }\n",
              "      const div = document.createElement('div');\n",
              "      const label = document.createElement('label');\n",
              "      label.textContent = `Downloading \"${filename}\": `;\n",
              "      div.appendChild(label);\n",
              "      const progress = document.createElement('progress');\n",
              "      progress.max = size;\n",
              "      div.appendChild(progress);\n",
              "      document.body.appendChild(div);\n",
              "\n",
              "      const buffers = [];\n",
              "      let downloaded = 0;\n",
              "\n",
              "      const channel = await google.colab.kernel.comms.open(id);\n",
              "      // Send a message to notify the kernel that we're ready.\n",
              "      channel.send({})\n",
              "\n",
              "      for await (const message of channel.messages) {\n",
              "        // Send a message to notify the kernel that we're ready.\n",
              "        channel.send({})\n",
              "        if (message.buffers) {\n",
              "          for (const buffer of message.buffers) {\n",
              "            buffers.push(buffer);\n",
              "            downloaded += buffer.byteLength;\n",
              "            progress.value = downloaded;\n",
              "          }\n",
              "        }\n",
              "      }\n",
              "      const blob = new Blob(buffers, {type: 'application/binary'});\n",
              "      const a = document.createElement('a');\n",
              "      a.href = window.URL.createObjectURL(blob);\n",
              "      a.download = filename;\n",
              "      div.appendChild(a);\n",
              "      a.click();\n",
              "      div.remove();\n",
              "    }\n",
              "  "
            ],
            "text/plain": [
              "<IPython.core.display.Javascript object>"
            ]
          },
          "metadata": {},
          "output_type": "display_data"
        },
        {
          "data": {
            "application/javascript": [
              "download(\"download_a7bbabee-8b8f-4a93-aa54-bf0158f349b6\", \"history.pkl\", 5623688)"
            ],
            "text/plain": [
              "<IPython.core.display.Javascript object>"
            ]
          },
          "metadata": {},
          "output_type": "display_data"
        }
      ],
      "source": [
        "files.download('machine_translation_k1.keras')\n",
        "\n",
        "files.download('machine_translation_k1.zip')\n",
        "\n",
        "files.download('history.pkl')"
      ]
    },
    {
      "cell_type": "code",
      "execution_count": null,
      "metadata": {
        "colab": {
          "base_uri": "https://localhost:8080/"
        },
        "id": "yMQkbjK5CAqV",
        "outputId": "5c0bfefd-7fdd-4d2a-d15f-d79d2380ef1d"
      },
      "outputs": [
        {
          "name": "stdout",
          "output_type": "stream",
          "text": [
            "Downloading...\n",
            "From: https://drive.google.com/uc?id=1HdpNKrbgxNbv5VbCxmlIvesiPqRrPkd-\n",
            "To: /content/machine_translation_k1.keras\n",
            "100% 5.62M/5.62M [00:00<00:00, 22.0MB/s]\n"
          ]
        }
      ],
      "source": [
        "# Download Model yang sudah di save\n",
        "!gdown 1HdpNKrbgxNbv5VbCxmlIvesiPqRrPkd-"
      ]
    },
    {
      "cell_type": "code",
      "execution_count": null,
      "metadata": {
        "colab": {
          "base_uri": "https://localhost:8080/"
        },
        "id": "Z-mMwI8ICaRl",
        "outputId": "69e96c0c-927c-4faf-d034-149aea78c43d"
      },
      "outputs": [
        {
          "name": "stdout",
          "output_type": "stream",
          "text": [
            "Downloading...\n",
            "From: https://drive.google.com/uc?id=1TozLqc1I1-1JLy89QzieDgX1sdiAXKq_\n",
            "To: /content/history.pkl\n",
            "100% 5.62M/5.62M [00:00<00:00, 17.0MB/s]\n"
          ]
        }
      ],
      "source": [
        "# Download history.pkl\n",
        "!gdown 1TozLqc1I1-1JLy89QzieDgX1sdiAXKq_"
      ]
    },
    {
      "cell_type": "code",
      "execution_count": null,
      "metadata": {
        "colab": {
          "background_save": true
        },
        "id": "HPd9oIhgYhp0",
        "outputId": "3ff45f2b-834f-4e1c-881e-2d57dd1ba594"
      },
      "outputs": [
        {
          "ename": "AttributeError",
          "evalue": "ignored",
          "output_type": "error",
          "traceback": [
            "\u001b[0;31m---------------------------------------------------------------------------\u001b[0m",
            "\u001b[0;31mAttributeError\u001b[0m                            Traceback (most recent call last)",
            "\u001b[0;32m<ipython-input-18-76c228fab0fb>\u001b[0m in \u001b[0;36m<cell line: 1>\u001b[0;34m()\u001b[0m\n\u001b[0;32m----> 1\u001b[0;31m \u001b[0mmodel\u001b[0m \u001b[0;34m=\u001b[0m \u001b[0mtf\u001b[0m\u001b[0;34m.\u001b[0m\u001b[0mkeras\u001b[0m\u001b[0;34m.\u001b[0m\u001b[0mload\u001b[0m\u001b[0;34m.\u001b[0m\u001b[0mmodels\u001b[0m\u001b[0;34m.\u001b[0m\u001b[0mload_model\u001b[0m\u001b[0;34m(\u001b[0m\u001b[0mmachine_translation_k1\u001b[0m\u001b[0;34m.\u001b[0m\u001b[0mkeras\u001b[0m\u001b[0;34m)\u001b[0m\u001b[0;34m\u001b[0m\u001b[0;34m\u001b[0m\u001b[0m\n\u001b[0m",
            "\u001b[0;31mAttributeError\u001b[0m: module 'keras.api._v2.keras' has no attribute 'load'"
          ]
        }
      ],
      "source": [
        "model = tf."
      ]
    }
  ],
  "metadata": {
    "colab": {
      "provenance": []
    },
    "kernelspec": {
      "display_name": "Python 3",
      "name": "python3"
    },
    "language_info": {
      "name": "python"
    }
  },
  "nbformat": 4,
  "nbformat_minor": 0
}